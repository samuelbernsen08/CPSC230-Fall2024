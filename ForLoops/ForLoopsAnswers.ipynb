{
 "cells": [
  {
   "cell_type": "code",
   "execution_count": 2,
   "metadata": {},
   "outputs": [
    {
     "name": "stdout",
     "output_type": "stream",
     "text": [
      "A\n",
      "A-\n",
      "B-\n",
      "A\n",
      "B+\n"
     ]
    }
   ],
   "source": [
    "'''\n",
    "1. Using a for loop, print out all of grades for a given student\n",
    "'''\n",
    "grades = [\"A\", \"A-\", \"B-\", \"A\", \"B+\"]\n",
    "\n",
    "for grade in grades:\n",
    "    print(grade)"
   ]
  },
  {
   "cell_type": "code",
   "execution_count": 20,
   "metadata": {},
   "outputs": [
    {
     "name": "stdout",
     "output_type": "stream",
     "text": [
      "2\n",
      "3\n",
      "5\n",
      "7\n",
      "11\n",
      "13\n",
      "17\n",
      "19\n",
      "23\n",
      "29\n",
      "31\n",
      "37\n",
      "41\n",
      "43\n",
      "47\n",
      "53\n",
      "59\n",
      "61\n",
      "67\n",
      "71\n",
      "73\n",
      "79\n",
      "83\n",
      "89\n",
      "97\n"
     ]
    }
   ],
   "source": [
    "'''\n",
    "2. Using a for loop, find all of the prime numbers between 1 and 100.\n",
    "Remember, prime numbers are only divisible by 1 and itself.\n",
    "'''\n",
    "for i in range(2,101):\n",
    "    for j in range(1,i):\n",
    "        if i == j or j == 1:\n",
    "            continue\n",
    "        if (i % j == 0):\n",
    "            break\n",
    "    else:\n",
    "        print(i)"
   ]
  },
  {
   "cell_type": "code",
   "execution_count": 22,
   "metadata": {},
   "outputs": [
    {
     "name": "stdout",
     "output_type": "stream",
     "text": [
      "---\n",
      "---\n",
      "---\n"
     ]
    }
   ],
   "source": [
    "'''\n",
    "3. Print out a blank tic-tac-toe board, using '-'s as the blank spots.\n",
    "Hint: Use nested for loops\n",
    "'''\n",
    "for x in range(3):\n",
    "    for k in range(3):\n",
    "        print('-', end='')\n",
    "    print()"
   ]
  },
  {
   "cell_type": "code",
   "execution_count": 25,
   "metadata": {},
   "outputs": [
    {
     "name": "stdout",
     "output_type": "stream",
     "text": [
      "hello\n",
      "hello\n",
      "hello\n",
      "hello\n",
      "hello\n",
      "Ha, I got you!\n"
     ]
    }
   ],
   "source": [
    "'''\n",
    "4. Have the user enter a word.\n",
    "To be an annoying programmer, repeat the input they gave you as many times as there\n",
    "are characters in the word. Add a newline after each time you print the word.\n",
    "Then print: \"Ha! I got you!\"\n",
    "'''\n",
    "word = str(input(\"Word: \"))\n",
    "for i in range(len(word)):\n",
    "    print(word)\n",
    "print(\"Ha, I got you!\")"
   ]
  },
  {
   "cell_type": "code",
   "execution_count": 16,
   "metadata": {},
   "outputs": [
    {
     "name": "stdout",
     "output_type": "stream",
     "text": [
      "Abundant number\n"
     ]
    }
   ],
   "source": [
    "'''\n",
    "5. A perfect number is defined as a number whos factors (other than itself)\n",
    "add up to itself. For example, 6 is a perfect number because its factors\n",
    "1,2 and 3 add up to 6.\n",
    "\n",
    "A deficient number is one where the sum of its factors (other than itself)\n",
    "is LESS than itself. For example, 8 (1,2,4), or 9 (1,3).\n",
    "\n",
    "An abundant number is one where the sum of its factors (other than itself)\n",
    "is GREATER than itself. For example 12 (1,2,3,4,6).\n",
    "\n",
    "Write a python script that checks whether a number, x, is perfect, deficient,\n",
    "or abundant.\n",
    "'''\n",
    "factors_sum = 0\n",
    "x = int(input(\"Number: \"))\n",
    "\n",
    "for i in range(1,x): # looping from 1 to x-1 because we don't want to include x as a factor of itself in this case\n",
    "    if x % i == 0: # if the remainder of x and the iterator is 0\n",
    "        factors_sum += i\n",
    "\n",
    "if factors_sum == x:\n",
    "    print(\"Perfect number\")\n",
    "elif factors_sum < x:\n",
    "    print(\"Deficient number\")\n",
    "elif factors_sum > x:\n",
    "    print(\"Abundant number\")\n",
    "\n"
   ]
  },
  {
   "cell_type": "code",
   "execution_count": null,
   "metadata": {},
   "outputs": [],
   "source": [
    "'''\n",
    "6. Based on the given terminal output, can you give me the code that could produce it.\n",
    "Hint: There are multiple correct answers.\n",
    "'''\n",
    "# 20,1,19,2,18,3,17,4,16,5,15,6,14,7,13,8,12,9,11,10,10,11,9,12,8,13,7,14,6,15,5,16,4,17,3,18,2,19,1,20,\n",
    "\n",
    "for i in range(1,21):\n",
    "    print((21-i), ',', i, ',', sep='', end = '')"
   ]
  },
  {
   "cell_type": "code",
   "execution_count": 3,
   "metadata": {},
   "outputs": [
    {
     "name": "stdout",
     "output_type": "stream",
     "text": [
      "f\n",
      "n\n",
      "k\n",
      "w\n",
      "e\n",
      "OH NO I'M SCARED OF E!!!!!!\n"
     ]
    }
   ],
   "source": [
    "'''\n",
    "7. Re-write this while loop as a For Loop.\n",
    "'''\n",
    "\n",
    "\n",
    "# i = 0\n",
    "# word = \"fnkwejnfoijfowijoijwoeirj\"\n",
    "# while i < len(word):\n",
    "#     print(word[i])\n",
    "#     if word[i] == \"e\":\n",
    "#         print(\"OH NO I'M SCARED OF E!!!!!!\")\n",
    "#         break\n",
    "#     else:\n",
    "#         i += 1\n",
    "\n",
    "word=\"fnkwejnfoijfowijoijwoeirj\"\n",
    "for letter in word:\n",
    "    print(letter)\n",
    "    if letter == 'e':\n",
    "        print(\"OH NO I'M SCARED OF E!!!!!!\")\n",
    "        break"
   ]
  }
 ],
 "metadata": {
  "kernelspec": {
   "display_name": "Python 3",
   "language": "python",
   "name": "python3"
  },
  "language_info": {
   "codemirror_mode": {
    "name": "ipython",
    "version": 3
   },
   "file_extension": ".py",
   "mimetype": "text/x-python",
   "name": "python",
   "nbconvert_exporter": "python",
   "pygments_lexer": "ipython3",
   "version": "3.12.5"
  }
 },
 "nbformat": 4,
 "nbformat_minor": 2
}
