{
 "cells": [
  {
   "cell_type": "code",
   "execution_count": 2,
   "metadata": {},
   "outputs": [
    {
     "name": "stdout",
     "output_type": "stream",
     "text": [
      "Wow, do I look that old?\n",
      "Don't I look wiser than that?\n",
      "Don't I look wiser than that?\n",
      "Nice! You got it!\n"
     ]
    }
   ],
   "source": [
    "'''\n",
    "1. Write a program that asks the user to guess your age. If they\n",
    "guess too high, print out \"Wow, do I look that old?\". If they guess\n",
    "too low, print out \"Don't I look wiser than that?\". Once they\n",
    "guess correctly, print out a message telling them and exit the loop.\n",
    "'''\n",
    "age = int(input(\"Guess my age: \"))\n",
    "while (age != 23): # use your actual age\n",
    "    if (age < 23):\n",
    "        print(\"Don't I look wiser than that?\")\n",
    "    elif (age > 23):\n",
    "        print(\"Wow, do I look that old?\")\n",
    "    age = int(input(\"Try again: \"))\n",
    "\n",
    "# outside of while loop, which means that condition is not satisfied and the user entered the correct age\n",
    "print(\"Nice! You got it!\")"
   ]
  },
  {
   "cell_type": "code",
   "execution_count": 2,
   "metadata": {},
   "outputs": [
    {
     "name": "stdout",
     "output_type": "stream",
     "text": [
      "Password Saved:  *****************\n"
     ]
    }
   ],
   "source": [
    "'''\n",
    "2. Ask the user to enter a potential password, and check if it meets the following criteria.\n",
    "If their password does not meet the criteria, tell them why, and ask them for a new password.\n",
    "Continue to ask them for a new password if their old one is bad.\n",
    "Make sure each password:\n",
    "\n",
    "- is at least 10 characters long\n",
    "- is not \"Password123\"\n",
    "- has an exclamation point in it (see example of in operator below)\n",
    "- has no spaces (see example of in operator below)\n",
    "- is less than 50 characters long\n",
    "'''\n",
    "\n",
    "# exclamation point\n",
    "### EXAMPLE CODE ###\n",
    "# \"!\" in \"Hello!\" # this is True\n",
    "# \"!\" in \"Hello\" # this is False\n",
    "\n",
    "# # spaces\n",
    "# ### EXAMPLE CODE ###\n",
    "# \" \" in \"This is Boring.\" # this is True\n",
    "# \" \" in \"ThisIsBoring.\" # this is False\n",
    "\n",
    "passwd = input(\"Enter Your Password: \")\n",
    "while (len(passwd) < 10 or (passwd == \"Password123\") or (\"!\" not in passwd) or (\" \" in passwd) or (len(passwd) > 50)):\n",
    "    print(\"Not a valid password\")\n",
    "    if (len(passwd) < 10):\n",
    "        print(\"Your password needs to be longer...\")\n",
    "    if (passwd == \"Password123\"):\n",
    "        print(\"You password cannot be 'Password123'\")\n",
    "    if (\"!\" not in passwd):\n",
    "        print(\"You need an exclamation point\")\n",
    "    if (\" \" in passwd):\n",
    "        print(\"You cannot have spaces\")\n",
    "    if (len(passwd) > 50):\n",
    "        print(\"Your password must be less than 50 characters\")\n",
    "    passwd = str(input(\"Enter Your Password: \"))\n",
    "\n",
    "print(\"Password Saved:\", \"*\"*len(passwd))"
   ]
  },
  {
   "cell_type": "code",
   "execution_count": null,
   "metadata": {},
   "outputs": [],
   "source": [
    "'''\n",
    "3. What's wrong with this while loop and how can you fix it?\n",
    "'''\n",
    "\n",
    "# x = 1\n",
    "# while x < 10:\n",
    "#     print(\"smol number\")\n",
    "# print(\"number is no longer smol\")\n",
    "\n",
    "# No update condition -> infinite loop\n",
    "# To fix it, add an update condition such as: x = x + 1 inside of the loop"
   ]
  },
  {
   "cell_type": "code",
   "execution_count": 2,
   "metadata": {},
   "outputs": [
    {
     "name": "stdout",
     "output_type": "stream",
     "text": [
      "Great! 230 sounds like a fun class!\n",
      "351 sounds like a fun class!\n",
      "CPSC 280 sounds like a fun class!\n",
      "  sounds like a fun class!\n"
     ]
    }
   ],
   "source": [
    "'''\n",
    "4. Write some code that asks the user to enter the course code (e.g. CPSC 230)\n",
    "for one of their classes. Then print out \"Great! [Course] sounds like a fun class!\",\n",
    "and ask them if they want to input another course that they're in. You should\n",
    "stop asking them for course codes once they enter an empty string \"\" instead of\n",
    "a course code (you'd do this by not entering anything in the prompt and just\n",
    "pressing Enter immediately).\n",
    "'''\n",
    "course = input(\"Course code: \")\n",
    "print(\"Great!\", course, \"sounds like a fun class!\", sep=\" \")\n",
    "while True:\n",
    "    another = input(\"Enter another course (if you don't want to, enter an empty string): \")\n",
    "    if another == '':\n",
    "        break\n",
    "    print(another, \"sounds like a fun class!\", sep=\" \")\n",
    "    "
   ]
  },
  {
   "cell_type": "code",
   "execution_count": 3,
   "metadata": {},
   "outputs": [
    {
     "name": "stdout",
     "output_type": "stream",
     "text": [
      "45\n",
      "90\n",
      "135\n",
      "180\n"
     ]
    }
   ],
   "source": [
    "'''\n",
    "5. Using a while loop, print out all the numbers between 1 and 200 that are\n",
    "divisible by both 5 and 9.\n",
    "'''\n",
    "num = 0\n",
    "while True:\n",
    "    num += 1\n",
    "    if num > 200:\n",
    "        break\n",
    "    if (num % 5 == 0 and num % 9 == 0):\n",
    "        print(num)"
   ]
  },
  {
   "cell_type": "code",
   "execution_count": 7,
   "metadata": {},
   "outputs": [
    {
     "name": "stdout",
     "output_type": "stream",
     "text": [
      "I HAVE Z's!!!\n",
      "Your inputs: dp52mkladlkfj"
     ]
    }
   ],
   "source": [
    "'''\n",
    "6. Using a while loop and continue, write some code that asks the user to input\n",
    "one single letter. If the letter is z or Z, print out \"I HAVE Z's!!!\", and do\n",
    "not finish this iteration of the loop.\n",
    "\n",
    "Otherwise, add the letter they've inputted to a string, my_string, that stores\n",
    "all the characters they've input so far (remember the + operator for strings).\n",
    "If they enter an empty string \"\", stop the loop. Print out my_string at the end.\n",
    "\n",
    "What happens when the user enters more than one character?\n",
    "Why is this?\n",
    "'''\n",
    "\n",
    "my_string = \"\"\n",
    "\n",
    "\n",
    "while True:\n",
    "    inputs = input(\"Enter one Letter: \")\n",
    "    if inputs.lower() == \"z\":\n",
    "        print(\"I HAVE Z's!!!\")\n",
    "        continue\n",
    "    elif inputs == '':\n",
    "        break\n",
    "    else:\n",
    "        my_string += inputs\n",
    "\n",
    "print(\"Your inputs:\", my_string, end = '')"
   ]
  },
  {
   "cell_type": "markdown",
   "metadata": {},
   "source": [
    "Source: Dr. Chelsea Parlett-Pelleriti"
   ]
  }
 ],
 "metadata": {
  "kernelspec": {
   "display_name": "Python 3",
   "language": "python",
   "name": "python3"
  },
  "language_info": {
   "codemirror_mode": {
    "name": "ipython",
    "version": 3
   },
   "file_extension": ".py",
   "mimetype": "text/x-python",
   "name": "python",
   "nbconvert_exporter": "python",
   "pygments_lexer": "ipython3",
   "version": "3.12.5"
  }
 },
 "nbformat": 4,
 "nbformat_minor": 2
}
