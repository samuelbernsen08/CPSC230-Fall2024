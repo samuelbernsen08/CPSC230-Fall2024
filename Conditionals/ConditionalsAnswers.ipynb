{
  "cells": [
    {
      "cell_type": "code",
      "execution_count": 2,
      "metadata": {
        "id": "MHZGqFmldXPD"
      },
      "outputs": [],
      "source": [
        "'''\n",
        "1. Use an if statement to print out \"This is positive\" if a number\n",
        "is positive.\n",
        "'''\n",
        "num = -1\n",
        "if num > 0:\n",
        "  print(\"This is positive\")"
      ]
    },
    {
      "cell_type": "code",
      "execution_count": 5,
      "metadata": {
        "colab": {
          "base_uri": "https://localhost:8080/"
        },
        "id": "OjJq8ZpYdf5n",
        "outputId": "e2539892-b477-43e6-8bbe-45292e77a002"
      },
      "outputs": [
        {
          "name": "stdout",
          "output_type": "stream",
          "text": [
            "Enter a word: happy\n",
            "K.\n"
          ]
        }
      ],
      "source": [
        "'''\n",
        "2. Ask the user to input a word. Store it in the variable x. Use\n",
        "an if statement to check whether that word is \"portmanteau\". If it\n",
        "is, print \"Your word is my favorite word!\". Otherwise, print\n",
        "\"K.\"\n",
        "'''\n",
        "x = input(\"Enter a word: \")\n",
        "if x == \"portmanteau\":\n",
        "  print(\"Your word is my favorite word!\")\n",
        "else:\n",
        "  print(\"K.\")"
      ]
    },
    {
      "cell_type": "code",
      "execution_count": 8,
      "metadata": {
        "colab": {
          "base_uri": "https://localhost:8080/"
        },
        "id": "qeolq3aidkmh",
        "outputId": "28b57992-b1e4-4b27-b9a5-9b1b09b9be1b"
      },
      "outputs": [
        {
          "name": "stdout",
          "output_type": "stream",
          "text": [
            "Enter a word: Smartphone\n",
            "Wow, short word.\n"
          ]
        }
      ],
      "source": [
        "'''\n",
        "3. You can use the len() function to check the length (# of characters)\n",
        "in a string (see example below). Ask the user to input a word and store\n",
        "it in the variable my_word. Using len() and an if statement, write some\n",
        "code that checks whether the length of a word is less than or equal to\n",
        "10. If it is, print out \"Wow, short word.\"\n",
        "'''\n",
        "\n",
        "g = len(\"Hello World\") # 11\n",
        "\n",
        "my_word = input(\"Enter a word: \")\n",
        "my_word_len = len(my_word)\n",
        "if (my_word_len <= 10):\n",
        "  print(\"Wow, short word.\")"
      ]
    },
    {
      "cell_type": "code",
      "execution_count": 9,
      "metadata": {
        "colab": {
          "base_uri": "https://localhost:8080/"
        },
        "id": "KYMzRjBBdtoL",
        "outputId": "7480eab7-94d1-4175-c68c-4698e45f504e"
      },
      "outputs": [
        {
          "name": "stdout",
          "output_type": "stream",
          "text": [
            "What is your favorite class? 230\n",
            "Me too!\n"
          ]
        }
      ],
      "source": [
        "'''\n",
        "4. Write some code that asks the user to input their favorite course (e.g.\n",
        "CPSC 392). Check whether their favorite course is CPSC 230. If it is, print\n",
        "out \"Me too!\".\n",
        "'''\n",
        "fav_course = input(\"What is your favorite class? \")\n",
        "if fav_course == \"CPSC 230\" or fav_course == \"230\" or fav_course == \"CPSC230\":\n",
        "  print(\"Me too!\")"
      ]
    },
    {
      "cell_type": "code",
      "execution_count": 12,
      "metadata": {
        "colab": {
          "base_uri": "https://localhost:8080/"
        },
        "id": "nX1kakb6duBb",
        "outputId": "617b26b1-abdb-4c37-e85d-a934611bae2b"
      },
      "outputs": [
        {
          "name": "stdout",
          "output_type": "stream",
          "text": [
            "Give me a number: 26\n",
            "Wow, this number is divisible by 13\n"
          ]
        }
      ],
      "source": [
        "'''\n",
        "5. Ask the user to input a number. Make sure to cast it to an int. Then,\n",
        "Check whether they're number is divisible by 13. If it is print out\n",
        "\"Wow, this number is divisible by 13\". Otherwise print out nothing.\n",
        "'''\n",
        "num = int(input(\"Give me a number: \"))\n",
        "if num % 13 == 0:\n",
        "  print(\"Wow, this number is divisible by 13\")\n",
        "else:\n",
        "  print(\"\\n\")"
      ]
    },
    {
      "cell_type": "code",
      "execution_count": 20,
      "metadata": {
        "colab": {
          "base_uri": "https://localhost:8080/"
        },
        "id": "s-PT6-ageJeh",
        "outputId": "f520f4b5-e974-4bca-998b-b175c5ab31b1"
      },
      "outputs": [
        {
          "name": "stdout",
          "output_type": "stream",
          "text": [
            "What day of the week is it (M/T/W/Th/F/Sat/Sun? Friday\n"
          ]
        }
      ],
      "source": [
        "'''\n",
        "1. Help me figure out where to go on campus! On MWF I teach in Keck.\n",
        "On TTh I teach in the Library. And on the weekend I work in my office in\n",
        "Swenson Hall.\n",
        "\n",
        "Write a python script that asks me (the user) to input\n",
        "the day of the week and use ifs/elifs/elses to print out where I should\n",
        "be based on what day it is (either Keck, Library, Swenson, or Home).\n",
        "'''\n",
        "day = input(\"What day of the week is it (M/T/W/Th/F/Sat/Sun? \")\n",
        "if day in \"MWF\":\n",
        "  print(\"Go to Keck\")\n",
        "elif day in \"TTh\":\n",
        "  print(\"Go to the Library\")\n",
        "elif day in \"SatSun\":\n",
        "  print(\"Go to Swenson\")"
      ]
    },
    {
      "cell_type": "code",
      "execution_count": 26,
      "metadata": {
        "colab": {
          "base_uri": "https://localhost:8080/"
        },
        "id": "B6saocZAeLgt",
        "outputId": "ea9b28b1-26c0-4dc8-bc91-c3164035c2d2"
      },
      "outputs": [
        {
          "name": "stdout",
          "output_type": "stream",
          "text": [
            "neither even nor odd\n"
          ]
        }
      ],
      "source": [
        "'''\n",
        "2. Create some code that checks whether a number is even.\n",
        "If it is,  print \"even\", otherwise print \"odd\". If the number\n",
        "is 0, print \"this is neither even, nor odd\".\n",
        "'''\n",
        "number = 0\n",
        "if number % 2:\n",
        "  print(\"odd\")\n",
        "elif number != 0:\n",
        "  print(\"even\")\n",
        "else:\n",
        "  print(\"neither even nor odd\")"
      ]
    },
    {
      "cell_type": "code",
      "execution_count": 36,
      "metadata": {
        "colab": {
          "base_uri": "https://localhost:8080/"
        },
        "id": "UWA3kweneOIk",
        "outputId": "c17c2efc-cfd7-45be-f272-e626bdef1308"
      },
      "outputs": [
        {
          "name": "stdout",
          "output_type": "stream",
          "text": [
            "Item: alcohol\n",
            "Age: 20\n",
            "Sorry I can't sell you that.\n",
            "Another item? Y\n",
            "Thank you for your purchase\n"
          ]
        }
      ],
      "source": [
        "'''\n",
        "3. Pretend you're writing some code for a convience store. Ask the user to\n",
        "input the name of an item (such as diapers, milk, lipgloss, moisturizer...etc).\n",
        "Check if the item is either \"cigarettes\" or \"alcohol\". If it is, ask the user\n",
        "how old they are and make sure they're old enough to buy the item (18 for\n",
        "cigarettes and 21 for alcohol). If they're not old enough, print \"Sorry I can't\n",
        "sell you that.\", If they are old enough, OR they're buying something else, print\n",
        "\"Thank you for your purchase\".\n",
        "'''\n",
        "item = input(\"Item: \")\n",
        "if item == \"cigarettes\":\n",
        "  age = int(input(\"Age: \"))\n",
        "  if age < 18:\n",
        "    print(\"Sorry I can't sell you that.\")\n",
        "    another_item = input(\"Another item? \")\n",
        "    if another_item == \"Y\":\n",
        "      print(\"Thank you for your purchase\")\n",
        "  else:\n",
        "    print(\"Thank you for your purchase.\")\n",
        "\n",
        "if item == \"alcohol\":\n",
        "  age = int(input(\"Age: \"))\n",
        "  if age < 21:\n",
        "    print(\"Sorry I can't sell you that.\")\n",
        "    another_item = input(\"Another item? \")\n",
        "    if another_item == \"Y\":\n",
        "      print(\"Thank you for your purchase\")\n",
        "  else:\n",
        "    print(\"Thank you for your purchase\")"
      ]
    },
    {
      "cell_type": "code",
      "execution_count": 40,
      "metadata": {
        "colab": {
          "base_uri": "https://localhost:8080/"
        },
        "id": "5j3n7hTxeQvf",
        "outputId": "0239e54b-313d-4019-d547-ae957a09d9e0"
      },
      "outputs": [
        {
          "name": "stdout",
          "output_type": "stream",
          "text": [
            "Give me an integer: 18\n",
            "yes!\n"
          ]
        }
      ],
      "source": [
        "'''\n",
        "4. Ask a user to input an integer, then check if that integer is even and\n",
        "greater than 17. If it is print \"yes!\".\n",
        "'''\n",
        "user_num = int(input(\"Give me an integer: \"))\n",
        "if (not (user_num % 2)) and (user_num > 17):\n",
        "  print(\"yes!\")"
      ]
    },
    {
      "cell_type": "code",
      "execution_count": 42,
      "metadata": {
        "colab": {
          "base_uri": "https://localhost:8080/"
        },
        "id": "Tb4ybEleev7b",
        "outputId": "631f139f-a6cb-4479-b818-1836ed2f3702"
      },
      "outputs": [
        {
          "name": "stdout",
          "output_type": "stream",
          "text": [
            "okay.\n",
            "How many late days do you get?5\n",
            "WRONG.\n",
            "palindrome\n",
            "yes\n"
          ]
        }
      ],
      "source": [
        "'''\n",
        "5. Translate the following if statements into conditional expressions.\n",
        "'''\n",
        "\n",
        "# if 1\n",
        "x = 10\n",
        "# ------------------------------------------\n",
        "# if x == 7:\n",
        "#     print(\"That's a lucky Number!\")\n",
        "# else:\n",
        "#     print(\"okay.\")\n",
        "\n",
        "print(\"That's a lucky Number!\") if x == 7 else print(\"okay.\")\n",
        "# ------------------------------------------\n",
        "\n",
        "# if 2\n",
        "late_days = int(input(\"How many late days do you get? \"))\n",
        "\n",
        "# ------------------------------------------\n",
        "# if late_days == 3:\n",
        "#     print(\"Correct!\")\n",
        "# else:\n",
        "#     print(\"WRONG.\")\n",
        "print(\"Correct!\") if late_days == 3 else print(\"WRONG.\")\n",
        "# ------------------------------------------\n",
        "\n",
        "# if 3\n",
        "string = \"kayak\"\n",
        "\n",
        "# ------------------------------------------\n",
        "# if string == string[::-1]: # using [::-1] reverses a string\n",
        "#     print(\"palindrome\")\n",
        "# else:\n",
        "#     print(\"boring old word.\")\n",
        "print(\"palindrome\") if string == string[::-1] else print(\"boring old word\")\n",
        "# ------------------------------------------\n",
        "\n",
        "# if 4\n",
        "\n",
        "x = 12\n",
        "# check if number is divisible by 2 and 3.\n",
        "\n",
        "# ------------------------------------------\n",
        "# if x%2 == 0 and x%3 == 0:\n",
        "#     print(\"yes\")\n",
        "# else:\n",
        "#     print(\"no\")\n",
        "print(\"yes\") if x % 2 == 0 and x % 3 == 0 else print(\"no\")"
      ]
    },
    {
      "cell_type": "code",
      "execution_count": 49,
      "metadata": {
        "colab": {
          "base_uri": "https://localhost:8080/"
        },
        "id": "Ktr2XtQ8genB",
        "outputId": "1daf1f7d-0928-4d43-82d1-431ebe602eb8"
      },
      "outputs": [
        {
          "name": "stdout",
          "output_type": "stream",
          "text": [
            "Age: 10\n",
            "Do you have an adult with you? Y\n",
            "How many tickets do you want? 4\n",
            "Total cost: $46.0\n"
          ]
        }
      ],
      "source": [
        "'''\n",
        "6. Pretend you run a movie theatre. Using if/elif/else statements as needed, write some\n",
        "code that asks the user to input their age. If customers are under 11, ask if\n",
        "they have an adult with them (yes/no), if they do, then ask them how many tickets\n",
        "they want. Tickets are $11.50 each (they get a student discount on all tickets).\n",
        "Print out their total cost. If they do not have an adult with them, print out a\n",
        "message saying they cannot buy any tickets. If the customer is older than 11,\n",
        "ask them how many tickets they want, and print out the price (Adults pay\n",
        "$13 per ticket).\n",
        "\n",
        "HINT: before you write out code, diagram this problem or write out the steps first.\n",
        "'''\n",
        "age = int(input(\"Age: \"))\n",
        "if age < 11:\n",
        "  adult = input(\"Do you have an adult with you? \")\n",
        "  if (adult == \"Y\"):\n",
        "    tickets = int(input(\"How many tickets do you want? \"))\n",
        "    print(\"Total cost: $\", 11.50 * tickets, sep = '')\n",
        "  else:\n",
        "    print(\"You cannot buy any tickets\")\n",
        "elif (age > 0 and age >= 11):\n",
        "  tickets = int(input(\"How many tickets do you want? \"))\n",
        "  print(\"Total cost: $\", 13 * tickets, sep = '')"
      ]
    },
    {
      "cell_type": "code",
      "execution_count": 56,
      "metadata": {
        "colab": {
          "base_uri": "https://localhost:8080/"
        },
        "id": "h92S9xlTghf1",
        "outputId": "aa98874b-e624-4dc7-d439-9ac0103e5ae0"
      },
      "outputs": [
        {
          "name": "stdout",
          "output_type": "stream",
          "text": [
            "Length 1: 3\n",
            "Length 2: 5\n",
            "Length 3: 8\n",
            "obtuse\n"
          ]
        }
      ],
      "source": [
        "'''\n",
        "7. Ask the user to input 3 integers which represent the lengths of the sides of\n",
        "a triangle. Write some code to check if the triangle is equilateral (all sides\n",
        "the same length), isosceles (two sides are equal), or obtuse (no sides are equal).\n",
        "\n",
        "Print out the result for the user to see.\n",
        "'''\n",
        "side1 = int(input(\"Length 1: \"))\n",
        "side2 = int(input(\"Length 2: \"))\n",
        "side3 = int(input(\"Length 3: \"))\n",
        "if side1 == side2 == side3:\n",
        "  print(\"equilateral\")\n",
        "elif side1 == side2 or side2 == side3 or side1 == side3:\n",
        "  print(\"isosceles\")\n",
        "else:\n",
        "  print(\"obtuse\")"
      ]
    },
    {
      "cell_type": "code",
      "execution_count": 57,
      "metadata": {
        "colab": {
          "base_uri": "https://localhost:8080/"
        },
        "id": "IQrNZptmeHka",
        "outputId": "70497a8e-9e93-4dbe-b9f1-85892e267d17"
      },
      "outputs": [
        {
          "name": "stdout",
          "output_type": "stream",
          "text": [
            "x is negative\n"
          ]
        }
      ],
      "source": [
        "'''\n",
        "8. Use if/elif/else to check whether a variable, x, is negative, zero, or positive.\n",
        "'''\n",
        "x = -5\n",
        "if x == 0:\n",
        "  print(\"x = 0\")\n",
        "elif x < 0:\n",
        "  print(\"x is negative\")\n",
        "elif x > 0:\n",
        "  print(\"x is positive\")"
      ]
    },
    {
      "cell_type": "code",
      "execution_count": 2,
      "metadata": {
        "colab": {
          "base_uri": "https://localhost:8080/"
        },
        "id": "r1BQvWHlgjr9",
        "outputId": "2390b216-452e-4acd-a033-f47df3d76596"
      },
      "outputs": [
        {
          "name": "stdout",
          "output_type": "stream",
          "text": [
            "C\n",
            "A\n"
          ]
        }
      ],
      "source": [
        "'''\n",
        "9. Use if/elif/else statements to ask the user to input their grade as a percentage\n",
        "(0-100%), and print out whether they have an A, B, C, D or F. (Use 90,80,70,60,\n",
        "and < 60 as your grade cutoffs.)\n",
        "'''\n",
        "grade = float(input(\"What is your grade percentage (0-100%)? \"))\n",
        "if grade < 0.0 or grade > 100.0:\n",
        "  print(\"Invalid percentage\")\n",
        "elif grade < 60.0:\n",
        "  print(\"F\")\n",
        "elif grade < 70.0:\n",
        "  print(\"D\")\n",
        "elif grade < 80.0:\n",
        "  print(\"C\")\n",
        "elif grade < 90.0:\n",
        "  print(\"B\")\n",
        "elif grade >= 90.0:\n",
        "  print(\"A\")\n",
        "\n",
        "# OR:\n",
        "grade = float(input(\"What is your grade percentage (0-100%)? \"))\n",
        "# if grade <= 100 and grade >= 90:\n",
        "#   print(\"A\")\n",
        "# elif grade >= 80:\n",
        "#   print(\"B\")\n",
        "# elif grade >= 70:\n",
        "#   print(\"C\")\n",
        "# elif grade >= 60:\n",
        "#   print(\"D\")\n",
        "# elif grade < 60:\n",
        "#   print(\"F\")\n"
      ]
    },
    {
      "cell_type": "code",
      "execution_count": null,
      "metadata": {},
      "outputs": [],
      "source": []
    }
  ],
  "metadata": {
    "colab": {
      "provenance": []
    },
    "kernelspec": {
      "display_name": "Python 3",
      "name": "python3"
    },
    "language_info": {
      "codemirror_mode": {
        "name": "ipython",
        "version": 3
      },
      "file_extension": ".py",
      "mimetype": "text/x-python",
      "name": "python",
      "nbconvert_exporter": "python",
      "pygments_lexer": "ipython3",
      "version": "3.12.5"
    }
  },
  "nbformat": 4,
  "nbformat_minor": 0
}
