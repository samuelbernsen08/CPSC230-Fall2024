{
 "cells": [
  {
   "cell_type": "code",
   "execution_count": 4,
   "metadata": {},
   "outputs": [
    {
     "data": {
      "text/plain": [
       "11.1803"
      ]
     },
     "execution_count": 4,
     "metadata": {},
     "output_type": "execute_result"
    }
   ],
   "source": [
    "'''\n",
    "1. Write a function, euclidean() that takes in 4 arguments, x1, x2, y1, and y2,\n",
    "and calculates (+ returns) the euclidean distance between the points (x1,y1) and (x2,y2).\n",
    "Make the default arguments 1 for all 4 arguments. \n",
    "'''\n",
    "# pip3 install numpy\n",
    "import math\n",
    "\n",
    "def euclidian(x1=1,x2=1,y1=1,y2=1):\n",
    "    dist = math.sqrt(((y1-y2) ** 2) + ((x1-x2) ** 2))\n",
    "    return round(dist,4)\n",
    "\n",
    "euclidian(1,3,-5,6)"
   ]
  },
  {
   "cell_type": "code",
   "execution_count": 5,
   "metadata": {},
   "outputs": [
    {
     "data": {
      "text/plain": [
       "True"
      ]
     },
     "execution_count": 5,
     "metadata": {},
     "output_type": "execute_result"
    }
   ],
   "source": [
    "'''\n",
    "2. Write a function pal_checker() that takes in a string, s, and returns True\n",
    "if it is a palindrome, and False if it is not. Make the default string \"kayak\".\n",
    "\n",
    "Make sure to account for upper and lower cases (e.g. Kayak is still okay).\n",
    "'''\n",
    "def pal_checker(s = \"kayak\"):\n",
    "    if s.lower()[::-1] == s.lower():\n",
    "        return True\n",
    "    else:\n",
    "        return False\n",
    "    \n",
    "pal_checker()"
   ]
  },
  {
   "cell_type": "code",
   "execution_count": 6,
   "metadata": {},
   "outputs": [
    {
     "name": "stdout",
     "output_type": "stream",
     "text": [
      "1\n",
      "4\n",
      "9\n",
      "16\n",
      "25\n",
      "36\n",
      "49\n",
      "64\n",
      "81\n",
      "100\n"
     ]
    }
   ],
   "source": [
    "'''\n",
    "3. Write a function squarer() that takes in a number, j, and prints out the\n",
    "squares of every number from 1 to j. \n",
    "'''\n",
    "def squarer(j):\n",
    "    for i in range(1,j+1): # j+1 because range only goes up to 1 below the max specified\n",
    "        print(i**2)\n",
    "\n",
    "squarer(10)"
   ]
  },
  {
   "cell_type": "code",
   "execution_count": 7,
   "metadata": {},
   "outputs": [
    {
     "data": {
      "text/plain": [
       "5040"
      ]
     },
     "execution_count": 7,
     "metadata": {},
     "output_type": "execute_result"
    }
   ],
   "source": [
    "'''\n",
    "4. Write a function called factorial() that takes in an integer, n, and returns\n",
    "the factorial of that number. Make the default value 9.\n",
    "'''\n",
    "def factorial(n = 9):\n",
    "    total = 1\n",
    "    for i in range(n,1,-1):\n",
    "        total *= i\n",
    "    return total\n",
    "\n",
    "def rec_factorial(n = 5):\n",
    "    if n >= 1:\n",
    "        return n * rec_factorial(n-1)\n",
    "    else:\n",
    "        return 1\n",
    "\n",
    "\n",
    "rec_factorial(7)"
   ]
  },
  {
   "cell_type": "code",
   "execution_count": 8,
   "metadata": {},
   "outputs": [
    {
     "name": "stdout",
     "output_type": "stream",
     "text": [
      "3\n"
     ]
    }
   ],
   "source": [
    "'''\n",
    "5. Write a function adder_subtracter() that takes in a STRING, eq, which looks\n",
    "like '5 + 2' or '10 - 4' or '16 - 30' and performs the operation intended by\n",
    "the user, returning the result. Make the default string '1 + 1'.\n",
    "\n",
    "You can assume the structure will ALWAYS be:\n",
    "\n",
    "some number, a space, either + or -, a space, and then another number.\n",
    "\n",
    "However the numbers might be big like 19834.\n",
    "'''\n",
    "\n",
    "def adder_subtractor(eq = \"1 + 1\"):\n",
    "    info = eq.split(\" \") # list of the important numbers and operation\n",
    "    num1 = int(info[0])\n",
    "    num2 = int(info[-1])\n",
    "    operation = info[1]\n",
    "    if operation == '+':\n",
    "        return num1 + num2\n",
    "    elif operation == '-':\n",
    "        return num1 - num2\n",
    "    else:\n",
    "        return None\n",
    "    \n",
    "final_result = adder_subtractor(eq = \"5 - 2\")\n",
    "print(final_result)\n"
   ]
  },
  {
   "cell_type": "code",
   "execution_count": 9,
   "metadata": {},
   "outputs": [
    {
     "name": "stdout",
     "output_type": "stream",
     "text": [
      "6\n"
     ]
    }
   ],
   "source": [
    "'''\n",
    "6. Write a function dice_roller() which takes in no arguments, and usese the\n",
    "random.randint() function to \"roll\" a die, returning the value.\n",
    "'''\n",
    "import random as rand\n",
    "def dice_roller():\n",
    "    return rand.randint(1,6)\n",
    "\n",
    "print(dice_roller())"
   ]
  },
  {
   "cell_type": "code",
   "execution_count": 10,
   "metadata": {},
   "outputs": [
    {
     "name": "stdout",
     "output_type": "stream",
     "text": [
      "d6: 4\n",
      "d20: 7\n"
     ]
    }
   ],
   "source": [
    "'''\n",
    "7. Extend you dice_roller() function to take in an argument, sides, which says\n",
    "the number of sides the die has. Set the default to six. Roll a d6 and a d20.\n",
    "'''\n",
    "def dice_roller(sides = 6):\n",
    "    return rand.randint(1,sides)\n",
    "\n",
    "print(\"d6:\",dice_roller())\n",
    "print(\"d20:\",dice_roller(sides=20))"
   ]
  },
  {
   "cell_type": "code",
   "execution_count": 11,
   "metadata": {},
   "outputs": [
    {
     "name": "stdout",
     "output_type": "stream",
     "text": [
      "<b>NO</b\n"
     ]
    }
   ],
   "source": [
    "'''\n",
    "8. Write a Python function, add_tags() to create the HTML string with tags\n",
    "around the word(s). add_tags() should take in two arguments, the tag, and the\n",
    "string to tag. HTLM tags start with a '<' then have the tag, and end with a '>'.\n",
    "\n",
    "Set the default value for tags to be \"b\", and the default for the string to be\n",
    "an empty string.\n",
    "\n",
    "For example:\n",
    "\n",
    "add_tags('i', 'Samuel') -> '<i>Samuel</i>'\n",
    "add_tags('b', 'NO') -> '<b>NO</b>'\n",
    "\n",
    "'''\n",
    "def add_tags(tag = 'b', string=''):\n",
    "    return \"<\" + tag + \">\" + string + \"<\" + \"/\" + tag\n",
    "\n",
    "print(add_tags('b', \"NO\"))\n",
    "    "
   ]
  },
  {
   "cell_type": "code",
   "execution_count": 12,
   "metadata": {},
   "outputs": [
    {
     "name": "stdout",
     "output_type": "stream",
     "text": [
      "Nicholas Cage are the best person in the world. Nicholas Cage make me smile, Nicholas Cage\n"
     ]
    }
   ],
   "source": [
    "'''\n",
    "9. Write a function, nic_cager(), that takes in a string, and replaces any\n",
    "instance of the word \"you\" (any capitalization like \"you\", OR \"You\") with \"Nicholas Cage\". Return\n",
    "the new string. And set the default value to be \"I love you\". Call your function\n",
    "using the defaults.\n",
    "'''\n",
    "def nic_cager(input_str = \"I love you\"):\n",
    "    modified_str = input_str.replace(\"you\", \"Nicholas Cage\")\n",
    "    modified_str = modified_str.replace(\"You\", \"Nicholas Cage\")\n",
    "    return modified_str\n",
    "\n",
    "print(nic_cager(\"You are the best person in the world. You make me smile, you\"))\n"
   ]
  }
 ],
 "metadata": {
  "kernelspec": {
   "display_name": "Python 3",
   "language": "python",
   "name": "python3"
  },
  "language_info": {
   "codemirror_mode": {
    "name": "ipython",
    "version": 3
   },
   "file_extension": ".py",
   "mimetype": "text/x-python",
   "name": "python",
   "nbconvert_exporter": "python",
   "pygments_lexer": "ipython3",
   "version": "3.12.5"
  }
 },
 "nbformat": 4,
 "nbformat_minor": 2
}
