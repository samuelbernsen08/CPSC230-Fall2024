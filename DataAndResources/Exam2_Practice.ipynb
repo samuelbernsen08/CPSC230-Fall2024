{
 "cells": [
  {
   "cell_type": "markdown",
   "metadata": {},
   "source": [
    "## Lists vs tuples:"
   ]
  },
  {
   "cell_type": "code",
   "execution_count": 56,
   "metadata": {},
   "outputs": [
    {
     "name": "stdout",
     "output_type": "stream",
     "text": [
      "['Arkansas', 'Alaska', 'Arizona']\n",
      "\n",
      "['Arkansas', 'Alaska', 'Arizona']\n"
     ]
    }
   ],
   "source": [
    "# Mutability discussion\n",
    "A_states = [\"Alabama\", \"Alaska\", \"Arizona\"]\n",
    "A_states[0] = \"Arkansas\" # possible\n",
    "print(A_states)\n",
    "\n",
    "print()\n",
    "# methods: append(), insert(), sort(), pop(<index>), remove(<element>), index(<element>), reverse(), and more\n",
    "# A_states.append(\"Alabama\")\n",
    "\n",
    "# A_states.insert(0,\"Alabama\")\n",
    "# A_states.sort()\n",
    "# A_states.pop(1)\n",
    "# A_states.remove(\"Arizona\")\n",
    "# finalState = A_states.index(\"Arkansas\")\n",
    "# A_states.reverse()\n",
    "\n",
    "print(A_states)\n",
    "# print(finalState)"
   ]
  },
  {
   "cell_type": "code",
   "execution_count": 39,
   "metadata": {},
   "outputs": [
    {
     "ename": "TypeError",
     "evalue": "'tuple' object does not support item assignment",
     "output_type": "error",
     "traceback": [
      "\u001b[0;31m---------------------------------------------------------------------------\u001b[0m",
      "\u001b[0;31mTypeError\u001b[0m                                 Traceback (most recent call last)",
      "Cell \u001b[0;32mIn[39], line 2\u001b[0m\n\u001b[1;32m      1\u001b[0m C_states \u001b[38;5;241m=\u001b[39m (\u001b[38;5;124m\"\u001b[39m\u001b[38;5;124mCalifornia\u001b[39m\u001b[38;5;124m\"\u001b[39m, \u001b[38;5;124m\"\u001b[39m\u001b[38;5;124mConnecticut\u001b[39m\u001b[38;5;124m\"\u001b[39m, \u001b[38;5;124m\"\u001b[39m\u001b[38;5;124mColorado\u001b[39m\u001b[38;5;124m\"\u001b[39m)\n\u001b[0;32m----> 2\u001b[0m \u001b[43mC_states\u001b[49m\u001b[43m[\u001b[49m\u001b[38;5;241;43m0\u001b[39;49m\u001b[43m]\u001b[49m \u001b[38;5;241m=\u001b[39m \u001b[38;5;124m\"\u001b[39m\u001b[38;5;124mCarolina\u001b[39m\u001b[38;5;124m\"\u001b[39m \u001b[38;5;66;03m# not possible\u001b[39;00m\n",
      "\u001b[0;31mTypeError\u001b[0m: 'tuple' object does not support item assignment"
     ]
    }
   ],
   "source": [
    "C_states = (\"California\", \"Connecticut\", \"Colorado\")\n",
    "C_states[0] = \"Carolina\" # not possible"
   ]
  },
  {
   "cell_type": "code",
   "execution_count": 43,
   "metadata": {},
   "outputs": [
    {
     "ename": "TypeError",
     "evalue": "'str' object does not support item assignment",
     "output_type": "error",
     "traceback": [
      "\u001b[0;31m---------------------------------------------------------------------------\u001b[0m",
      "\u001b[0;31mTypeError\u001b[0m                                 Traceback (most recent call last)",
      "Cell \u001b[0;32mIn[43], line 3\u001b[0m\n\u001b[1;32m      1\u001b[0m \u001b[38;5;66;03m# strings aside\u001b[39;00m\n\u001b[1;32m      2\u001b[0m str1 \u001b[38;5;241m=\u001b[39m \u001b[38;5;124m\"\u001b[39m\u001b[38;5;124mSamuel\u001b[39m\u001b[38;5;124m\"\u001b[39m\n\u001b[0;32m----> 3\u001b[0m \u001b[43mstr1\u001b[49m\u001b[43m[\u001b[49m\u001b[38;5;241;43m0\u001b[39;49m\u001b[43m]\u001b[49m \u001b[38;5;241m=\u001b[39m \u001b[38;5;124m\"\u001b[39m\u001b[38;5;124mJ\u001b[39m\u001b[38;5;124m\"\u001b[39m\n\u001b[1;32m      4\u001b[0m \u001b[38;5;28mprint\u001b[39m(str1)\n",
      "\u001b[0;31mTypeError\u001b[0m: 'str' object does not support item assignment"
     ]
    }
   ],
   "source": [
    "# strings aside\n",
    "str1 = \"Samuel\"\n",
    "str1[0] = \"J\"\n",
    "print(str1)"
   ]
  },
  {
   "cell_type": "code",
   "execution_count": 57,
   "metadata": {},
   "outputs": [
    {
     "name": "stdout",
     "output_type": "stream",
     "text": [
      "Arkansas\n",
      "Alaska\n",
      "Arizona\n",
      "Arizona\n",
      "\n",
      "['Arkansas']\n",
      "['Alaska', 'Arizona']\n",
      "['Arkansas', 'Alaska', 'Arizona']\n",
      "['Arizona', 'Alaska', 'Arkansas']\n"
     ]
    }
   ],
   "source": [
    "# Indexing and slicing\n",
    "\n",
    "# lists\n",
    "print(A_states[0])\n",
    "print(A_states[1])\n",
    "print(A_states[2])\n",
    "print(A_states[-1])\n",
    "\n",
    "print()\n",
    "\n",
    "print(A_states[0:1])\n",
    "print(A_states[1:]) # index 1 to the end\n",
    "print(A_states[:3]) # beginning to the 2nd index\n",
    "print(A_states[::-1]) # reverse a string"
   ]
  },
  {
   "cell_type": "code",
   "execution_count": 58,
   "metadata": {},
   "outputs": [
    {
     "name": "stdout",
     "output_type": "stream",
     "text": [
      "California\n",
      "Connecticut\n",
      "Colorado\n",
      "\n",
      "('California',)\n",
      "('Connecticut', 'Colorado')\n",
      "('California', 'Connecticut', 'Colorado')\n",
      "('Colorado', 'Connecticut', 'California')\n"
     ]
    }
   ],
   "source": [
    "# tuples\n",
    "print(C_states[0])\n",
    "print(C_states[1])\n",
    "print(C_states[-1])\n",
    "\n",
    "print()\n",
    "\n",
    "print(C_states[0:1])\n",
    "print(C_states[1:])\n",
    "print(C_states[:3])\n",
    "print(C_states[::-1])"
   ]
  },
  {
   "cell_type": "markdown",
   "metadata": {},
   "source": [
    "## Functions"
   ]
  },
  {
   "cell_type": "code",
   "execution_count": null,
   "metadata": {},
   "outputs": [],
   "source": [
    "# Two parts: name and parameters (optional)\n",
    "\n",
    "# structure:\n",
    "\n",
    "# function definition\n",
    "def someFunction(a):\n",
    "    pass\n",
    "\n",
    "# name: someFunction\n",
    "# parameters: a\n",
    "\n",
    "# function call (invocation)\n",
    "someFunction(5) # a becomes 5 when the function runs from this call"
   ]
  },
  {
   "cell_type": "code",
   "execution_count": 62,
   "metadata": {},
   "outputs": [
    {
     "ename": "TypeError",
     "evalue": "'>' not supported between instances of 'str' and 'int'",
     "output_type": "error",
     "traceback": [
      "\u001b[0;31m---------------------------------------------------------------------------\u001b[0m",
      "\u001b[0;31mTypeError\u001b[0m                                 Traceback (most recent call last)",
      "Cell \u001b[0;32mIn[62], line 12\u001b[0m\n\u001b[1;32m      9\u001b[0m         \u001b[38;5;28mprint\u001b[39m(\u001b[38;5;124m\"\u001b[39m\u001b[38;5;124mZero\u001b[39m\u001b[38;5;124m\"\u001b[39m)\n\u001b[1;32m     11\u001b[0m \u001b[38;5;66;03m# function call (invocation)\u001b[39;00m\n\u001b[0;32m---> 12\u001b[0m \u001b[43msomeFunction\u001b[49m\u001b[43m(\u001b[49m\u001b[38;5;124;43m\"\u001b[39;49m\u001b[38;5;124;43mHello\u001b[39;49m\u001b[38;5;124;43m\"\u001b[39;49m\u001b[43m)\u001b[49m\n",
      "Cell \u001b[0;32mIn[62], line 4\u001b[0m, in \u001b[0;36msomeFunction\u001b[0;34m(a)\u001b[0m\n\u001b[1;32m      3\u001b[0m \u001b[38;5;28;01mdef\u001b[39;00m \u001b[38;5;21msomeFunction\u001b[39m(a):\n\u001b[0;32m----> 4\u001b[0m     \u001b[38;5;28;01mif\u001b[39;00m \u001b[43ma\u001b[49m\u001b[43m \u001b[49m\u001b[38;5;241;43m>\u001b[39;49m\u001b[43m \u001b[49m\u001b[38;5;241;43m0\u001b[39;49m:\n\u001b[1;32m      5\u001b[0m         \u001b[38;5;28mprint\u001b[39m(\u001b[38;5;124m\"\u001b[39m\u001b[38;5;124mPositive\u001b[39m\u001b[38;5;124m\"\u001b[39m)\n\u001b[1;32m      6\u001b[0m     \u001b[38;5;28;01melif\u001b[39;00m a \u001b[38;5;241m<\u001b[39m \u001b[38;5;241m0\u001b[39m:\n",
      "\u001b[0;31mTypeError\u001b[0m: '>' not supported between instances of 'str' and 'int'"
     ]
    }
   ],
   "source": [
    "# function definition\n",
    "# Take in a number and check if that number is positive, negative, or zero\n",
    "def someFunction(a):\n",
    "    if a > 0:\n",
    "        print(\"Positive\")\n",
    "    elif a < 0:\n",
    "        print(\"Negative\")\n",
    "    else:\n",
    "        print(\"Zero\")\n",
    "\n",
    "# function call (invocation)\n",
    "someFunction(10)"
   ]
  },
  {
   "cell_type": "code",
   "execution_count": 64,
   "metadata": {},
   "outputs": [
    {
     "name": "stdout",
     "output_type": "stream",
     "text": [
      "True\n"
     ]
    }
   ],
   "source": [
    "# function definition\n",
    "# check to see if strings are the same and return boolean\n",
    "def strChecker(string1,string2):\n",
    "    return string1 == string2\n",
    "\n",
    "# function invocation\n",
    "check1 = strChecker(\"Sam\", \"Samuel\")\n",
    "print(check1)"
   ]
  },
  {
   "cell_type": "code",
   "execution_count": 80,
   "metadata": {},
   "outputs": [
    {
     "name": "stdout",
     "output_type": "stream",
     "text": [
      "0.5008\n"
     ]
    }
   ],
   "source": [
    "import random\n",
    "# function definition\n",
    "# flipping a coin n times and returning the proportion of flips that are 1 (heads)\n",
    "def coin_flip(n=100):\n",
    "    num_heads = 0\n",
    "    coin_vals = [0,1]\n",
    "    for i in range(n):\n",
    "        coin_val = coin_vals[random.randint(0,1)]\n",
    "        if coin_val:\n",
    "            num_heads += 1\n",
    "    prop_heads = num_heads / n\n",
    "    return prop_heads\n",
    "\n",
    "# function invocation\n",
    "print(coin_flip())"
   ]
  },
  {
   "cell_type": "markdown",
   "metadata": {},
   "source": [
    "## Dictionaries and Sets"
   ]
  },
  {
   "cell_type": "code",
   "execution_count": 82,
   "metadata": {},
   "outputs": [
    {
     "name": "stdout",
     "output_type": "stream",
     "text": [
      "['apple', 'banana', 'orange', 'strawberry', 'pumpkin']\n",
      "\n"
     ]
    },
    {
     "ename": "KeyError",
     "evalue": "'vegetable'",
     "output_type": "error",
     "traceback": [
      "\u001b[0;31m---------------------------------------------------------------------------\u001b[0m",
      "\u001b[0;31mKeyError\u001b[0m                                  Traceback (most recent call last)",
      "Cell \u001b[0;32mIn[82], line 18\u001b[0m\n\u001b[1;32m     16\u001b[0m foodTypes\u001b[38;5;241m.\u001b[39mpop(\u001b[38;5;124m\"\u001b[39m\u001b[38;5;124mvegetable\u001b[39m\u001b[38;5;124m\"\u001b[39m)\n\u001b[1;32m     17\u001b[0m \u001b[38;5;66;03m# veggies = foodTypes.get(\"vegetables\", None)\u001b[39;00m\n\u001b[0;32m---> 18\u001b[0m veggies \u001b[38;5;241m=\u001b[39m \u001b[43mfoodTypes\u001b[49m\u001b[43m[\u001b[49m\u001b[38;5;124;43m\"\u001b[39;49m\u001b[38;5;124;43mvegetable\u001b[39;49m\u001b[38;5;124;43m\"\u001b[39;49m\u001b[43m]\u001b[49m\n\u001b[1;32m     19\u001b[0m \u001b[38;5;28mprint\u001b[39m(veggies)\n\u001b[1;32m     21\u001b[0m \u001b[38;5;66;03m# update: need another dictionary\u001b[39;00m\n",
      "\u001b[0;31mKeyError\u001b[0m: 'vegetable'"
     ]
    }
   ],
   "source": [
    "# Dictionaries\n",
    "# key: value pairs\n",
    "\n",
    "foodTypes = {\"fruit\": [\"apple\", \"banana\", \"orange\", \"strawberry\", \"pumpkin\"],\n",
    "             \"vegetable\": [\"brocolli\", \"pea\", \"asparagus\", \"carrot\"],\n",
    "             \"meat\": [\"beef\", \"chicken\", \"pork\", \"fish\"]}\n",
    "\n",
    "# methods: get(<key>), pop(<key>), clear(), update()\n",
    "\n",
    "# .get()\n",
    "fruits = foodTypes.get(\"fruit\", None)\n",
    "print(fruits)\n",
    "\n",
    "print()\n",
    "# .pop()\n",
    "foodTypes.pop(\"vegetable\")\n",
    "veggies = foodTypes.get(\"vegetables\", None)\n",
    "print(veggies)\n",
    "\n",
    "# update: need another dictionary"
   ]
  },
  {
   "cell_type": "code",
   "execution_count": 83,
   "metadata": {},
   "outputs": [
    {
     "name": "stdout",
     "output_type": "stream",
     "text": [
      "['beef', 'chicken', 'pork', 'fish']\n",
      "beef\n",
      "b\n"
     ]
    }
   ],
   "source": [
    "# Dictionaries: grabbing elements with [] instead of get()\n",
    "bestFoodType = foodTypes[\"meat\"]\n",
    "bestMeat = bestFoodType[0]\n",
    "bestMeatFirstLetter = bestMeat[0]\n",
    "print(bestFoodType)\n",
    "print(bestMeat)\n",
    "print(bestMeatFirstLetter)"
   ]
  },
  {
   "cell_type": "code",
   "execution_count": 84,
   "metadata": {},
   "outputs": [
    {
     "name": "stdout",
     "output_type": "stream",
     "text": [
      "{'fruit': ['apple', 'banana', 'orange', 'strawberry', 'pumpkin'], 'meat': ['beef', 'chicken', 'pork', 'fish'], 'beans': ['kidney', 'pinto', 'black']}\n"
     ]
    }
   ],
   "source": [
    "# Dictionaries: Adding key: value pair\n",
    "foodTypes[\"beans\"] = [\"kidney\", \"pinto\", \"black\"]\n",
    "print(foodTypes)"
   ]
  },
  {
   "cell_type": "code",
   "execution_count": 38,
   "metadata": {},
   "outputs": [
    {
     "name": "stdout",
     "output_type": "stream",
     "text": [
      "{0.0, 130.13, 3.141592653589793, 4.249508, -1.25, -5, -1.5}\n",
      "{0.0, 0.1, 0.3, 3.141592653589793, 0.2, 130, 131, 1.5961538461538463}\n",
      "Difference: {130.13, 4.249508, -1.25, -5, -1.5}\n"
     ]
    }
   ],
   "source": [
    "import math\n",
    "# Sets\n",
    "someRealNumbers = {-5,-5/4,-3/2,0.0,math.pi,4.249508,130.130}\n",
    "print(someRealNumbers)\n",
    "\n",
    "someOtherNumbers = {0.0,0.1,0.2,0.3,math.pi,130,131,83/52}\n",
    "print(someOtherNumbers)\n",
    "\n",
    "# intersection, union, difference, symmetric difference\n",
    "# syntax:\n",
    "print(\"Difference\",someRealNumbers.difference(someOtherNumbers), sep=\": \")"
   ]
  },
  {
   "cell_type": "markdown",
   "metadata": {},
   "source": [
    "## Reminder: Namespaces"
   ]
  },
  {
   "cell_type": "code",
   "execution_count": 87,
   "metadata": {},
   "outputs": [
    {
     "name": "stdout",
     "output_type": "stream",
     "text": [
      "[('Jerry', 'Josh'), ('Jerry', 'Judy'), ('Jerry', 'Jeri'), ('Josh', 'Judy'), ('Josh', 'Jeri'), ('Judy', 'Jeri'), ('Sam', 'Somebody')]\n"
     ]
    }
   ],
   "source": [
    "# revisit the love island couples pairing function\n",
    "\n",
    "def love_island_couples(l):\n",
    "    couples_list = []\n",
    "    for i in range(len(l)-1): # i: 0 -> 2\n",
    "        for k in range(i+1,len(l)):\n",
    "            couples_list.append((l[i],l[k]))\n",
    "    return couples_list\n",
    "\n",
    "# Invalid:\n",
    "couples_list.append((\"Sam\",\"Somebody\")) # couples_list only defined inside of the function\n",
    "\n",
    "# Valid:\n",
    "# couples_pairing = love_island_couples([\"Jerry\", \"Josh\", \"Judy\", \"Jeri\"])\n",
    "# print(couples_pairing)"
   ]
  }
 ],
 "metadata": {
  "kernelspec": {
   "display_name": "Python 3",
   "language": "python",
   "name": "python3"
  },
  "language_info": {
   "codemirror_mode": {
    "name": "ipython",
    "version": 3
   },
   "file_extension": ".py",
   "mimetype": "text/x-python",
   "name": "python",
   "nbconvert_exporter": "python",
   "pygments_lexer": "ipython3",
   "version": "3.12.5"
  }
 },
 "nbformat": 4,
 "nbformat_minor": 2
}
