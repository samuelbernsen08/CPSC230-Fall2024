{
 "cells": [
  {
   "cell_type": "code",
   "execution_count": 1,
   "metadata": {},
   "outputs": [
    {
     "name": "stdout",
     "output_type": "stream",
     "text": [
      "THEDARKKNIGHT\n"
     ]
    }
   ],
   "source": [
    "'''\n",
    "1. I've placed a hidden message in this string.\n",
    "Can you figure out how the message?\n",
    "Can you out the message?\n",
    "'''\n",
    "hiddenMsg = \"kdiTakHoi03E:kfDkoAkj;kfR895KnvklKdfiNie4I59Ga.dHignT\"\n",
    "\n",
    "unencodedMessage = \"\"\n",
    "for char in hiddenMsg:\n",
    "    if char.isupper():\n",
    "        unencodedMessage += char\n",
    "print(unencodedMessage)"
   ]
  },
  {
   "cell_type": "code",
   "execution_count": 15,
   "metadata": {},
   "outputs": [
    {
     "name": "stdout",
     "output_type": "stream",
     "text": [
      "Sam\n",
      "Sam\n",
      "Sam\n"
     ]
    }
   ],
   "source": [
    "'''\n",
    "2. Grab and print the name \"Sam\" from the following strings using string\n",
    "slicing.\n",
    "'''\n",
    "\n",
    "s1 = \"My Name is Sam\"\n",
    "s2 = \"maS\" # hint [::]\n",
    "s3 = \"Samuel Bernsen\"\n",
    "\n",
    "print(s1[11:])\n",
    "print(s2[::-1])\n",
    "print(s3[0:3])"
   ]
  },
  {
   "cell_type": "code",
   "execution_count": 21,
   "metadata": {},
   "outputs": [
    {
     "name": "stdout",
     "output_type": "stream",
     "text": [
      "Not a palindrome\n"
     ]
    }
   ],
   "source": [
    "'''\n",
    "3. Ask the user for a word as input and store it in the variable, palindrome.\n",
    "Then, check whether their word is a palindrome (the same forwards and backwards\n",
    "like the word kayak). If it is, print out a message informing them.\n",
    "'''\n",
    "\n",
    "word = input(\"Word: \")\n",
    "if word.lower() == word[::-1].lower():\n",
    "    print(\"It's a palindrome\")\n",
    "else:\n",
    "    print(\"Not a palindrome\")\n",
    "\n",
    "# Kayak != kayaK"
   ]
  },
  {
   "cell_type": "code",
   "execution_count": 30,
   "metadata": {},
   "outputs": [
    {
     "name": "stdout",
     "output_type": "stream",
     "text": [
      "Work, work, work, work, work, work\n",
      "He said me haffi work, work, work, work, work, work\n",
      "He see me do mi dirt, dirt, dirt, dirt, dirt, dirt\n",
      "\n"
     ]
    }
   ],
   "source": [
    "\n",
    "'''\n",
    "4. Use + and * operators with strings to print out the lyrics to \"Work\" by\n",
    "Rhianna more efficiently (e.g. instead of typing \"work work work work work\" how\n",
    "can we use the * operator?)\n",
    "'''\n",
    "\n",
    "# lyrics = '''Work, work, work, work, work, work\n",
    "# He said me haffi work, work, work, work, work, work\n",
    "# He see me do mi dirt, dirt, dirt, dirt, dirt, dirt\n",
    "# '''\n",
    "\n",
    "lyrics = \"Work, \" + \"work, \" * 4 + \"work\\n\"\n",
    "lyrics += \"He said me haffi \" + \"work, \" * 5 + \"work\\n\"\n",
    "lyrics += \"He see me do mi \" + \"dirt, \" * 5 + \"dirt\\n\"\n",
    "print(lyrics)\n"
   ]
  },
  {
   "cell_type": "code",
   "execution_count": 34,
   "metadata": {},
   "outputs": [
    {
     "name": "stdout",
     "output_type": "stream",
     "text": [
      "Give me 2 words of the same length.\n",
      "1\n"
     ]
    }
   ],
   "source": [
    "'''\n",
    "5. Ask the user to input two words of the SAME LENGTH. Using a WHILE loop, count\n",
    "how many letters are the same between the two strings. For example in spam and\n",
    "span, 3 of the letters (s,p,a) are the same. In the words bitter and better,\n",
    "5 of the letters are the same. Print out a message telling the user how many\n",
    "letters are the same.\n",
    "'''\n",
    "print(\"Give me 2 words of the same length.\")\n",
    "word1 = input(\"Word 1: \")\n",
    "word2 = input(\"Word 2: \")\n",
    "\n",
    "i = 0\n",
    "numSame = 0\n",
    "while i < min(len(word1), len(word2)): # take the minimum of the length of the words to ensure that index doesn't go out of bounds\n",
    "    if word1[i] == word2[i]:\n",
    "        numSame += 1\n",
    "    i += 1\n",
    "\n",
    "print(numSame)"
   ]
  },
  {
   "cell_type": "code",
   "execution_count": 35,
   "metadata": {},
   "outputs": [
    {
     "name": "stdout",
     "output_type": "stream",
     "text": [
      "21\n"
     ]
    }
   ],
   "source": [
    "'''\n",
    "6. The function .isupper() checks if a string has all uppercase letters. It returns\n",
    "True if all the characters are uppercase, and False otherwise. Using a while\n",
    "loop to loop through the string below, count the number of uppercase letters.\n",
    "\n",
    "'''\n",
    "\n",
    "# example of .isupper()\n",
    "# print(\"E\".isupper())\n",
    "# print(\"e\".isupper())\n",
    "\n",
    "the_string = \"When I was a Young Boy My Father Took Me Into The CITY to See A Marching BAND\"\n",
    "\n",
    "numUpper = 0\n",
    "for char in the_string:\n",
    "    if char.isupper():\n",
    "        numUpper += 1\n",
    "\n",
    "print(numUpper)"
   ]
  },
  {
   "cell_type": "code",
   "execution_count": 38,
   "metadata": {},
   "outputs": [
    {
     "name": "stdout",
     "output_type": "stream",
     "text": [
      "You're blocked!\n"
     ]
    }
   ],
   "source": [
    "'''\n",
    "7. Pretend your user is a Club Penguin player. Ask the user to input a message.\n",
    "Use the in operator to check if any of the following \"bad words\" are in the message\n",
    "a Club Penguin user is trying to type. If any of them are, print \"You're BLOCKED\". Otherwise\n",
    "print the message as is.\n",
    "\n",
    "BAD WORDS:\n",
    "- dang\n",
    "- gosh\n",
    "- shoot\n",
    "- fork\n",
    "- bench\n",
    "'''\n",
    "\n",
    "message = input(\"Message: \")\n",
    "lowerMessage = message.lower()\n",
    "if \"dang\" in lowerMessage or \"gosh\" in lowerMessage or \"shoot\" in lowerMessage or \"fork\" in lowerMessage or \"bench\" in lowerMessage:\n",
    "    print(\"You're blocked!\")\n",
    "else:\n",
    "    print(message)"
   ]
  },
  {
   "cell_type": "code",
   "execution_count": 39,
   "metadata": {},
   "outputs": [
    {
     "name": "stdout",
     "output_type": "stream",
     "text": [
      "H3110! I @pp3@r +0 |33 10$+. C@n $0m30n3 dir3c+ m3 +0 +h3 w3|3$i+3 R3ddi+? By3!\n"
     ]
    }
   ],
   "source": [
    "'''\n",
    "9. 133+ (leet) speak is a way of writing english using symbols to replace many english\n",
    "letters. Use python to change the string below into leet speak based on the\n",
    "replacements listed below. Make sure to account for capitals!\n",
    "\n",
    "a = @\n",
    "b = |3\n",
    "e = 3\n",
    "l = 1\n",
    "o = 0\n",
    "s = $\n",
    "t = +\n",
    "'''\n",
    "my_string = \"Hello! I appear to be lost. Can someone direct me to the website Reddit? Bye!\"\n",
    "\n",
    "\n",
    "my_string = my_string.replace('a', '@').replace('b', '|3').replace('e', '3').replace('l', '1')\n",
    "my_string = my_string.replace('o', '0').replace('s', '$').replace('t', '+')\n",
    "print(my_string)"
   ]
  }
 ],
 "metadata": {
  "kernelspec": {
   "display_name": "Python 3",
   "language": "python",
   "name": "python3"
  },
  "language_info": {
   "codemirror_mode": {
    "name": "ipython",
    "version": 3
   },
   "file_extension": ".py",
   "mimetype": "text/x-python",
   "name": "python",
   "nbconvert_exporter": "python",
   "pygments_lexer": "ipython3",
   "version": "3.12.5"
  }
 },
 "nbformat": 4,
 "nbformat_minor": 2
}
