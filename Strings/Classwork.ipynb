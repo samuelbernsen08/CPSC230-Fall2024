{
 "cells": [
  {
   "cell_type": "code",
   "execution_count": null,
   "metadata": {},
   "outputs": [],
   "source": [
    "'''\n",
    "1. I've placed a hidden message in this string.\n",
    "Can you figure out how the message?\n",
    "Can you out the message?\n",
    "'''\n",
    "hiddenMsg = \"kdiTakHoi03E:kfDkoAkj;kfR895KnvklKdfiNie4I59Ga.dHignT\""
   ]
  },
  {
   "cell_type": "code",
   "execution_count": null,
   "metadata": {},
   "outputs": [],
   "source": [
    "'''\n",
    "2. Grab and print the name \"Sam\" from the following strings using string\n",
    "slicing.\n",
    "'''\n",
    "\n",
    "s1 = \"My Name is Sam\"\n",
    "s2 = \"maS\" # hint [::]\n",
    "s3 = \"Samuel Bernsen\""
   ]
  },
  {
   "cell_type": "code",
   "execution_count": null,
   "metadata": {},
   "outputs": [],
   "source": [
    "'''\n",
    "3. Ask the user for a word as input and store it in the variable, palindrome.\n",
    "Then, check whether their word is a palindrome (the same forwards and backwards\n",
    "like the word kayak). If it is, print out a message informing them.\n",
    "'''"
   ]
  },
  {
   "cell_type": "code",
   "execution_count": null,
   "metadata": {},
   "outputs": [],
   "source": [
    "\n",
    "'''\n",
    "4. Use + and * operators with strings to print out the lyrics to \"Work\" by\n",
    "Rhianna more efficiently (e.g. instead of typing \"work work work work work\" how\n",
    "can we use the * operator?)\n",
    "'''\n",
    "\n",
    "lyrics = '''Work, work, work, work, work, work\n",
    "He said me haffi work, work, work, work, work, work\n",
    "He see me do mi dirt, dirt, dirt, dirt, dirt, dirt\n",
    "'''\n"
   ]
  },
  {
   "cell_type": "code",
   "execution_count": null,
   "metadata": {},
   "outputs": [],
   "source": [
    "'''\n",
    "5. Ask the user to input two words of the SAME LENGTH. Using a WHILE loop, count\n",
    "how many letters are the same between the two strings. For example in spam and\n",
    "span, 3 of the letters (s,p,a) are the same. In the words bitter and better,\n",
    "5 of the letters are the same. Print out a message telling the user how many\n",
    "letters are the same.\n",
    "'''\n"
   ]
  },
  {
   "cell_type": "code",
   "execution_count": null,
   "metadata": {},
   "outputs": [],
   "source": [
    "'''\n",
    "6. The function .isupper() checks if a string has all uppercase letters. It returns\n",
    "True if all the characters are uppercase, and False otherwise. Using a while\n",
    "loop to loop through the string below, count the number of uppercase letters.\n",
    "\n",
    "'''\n",
    "\n",
    "# example of .isupper()\n",
    "print(\"E\".isupper())\n",
    "print(\"e\".isupper())\n",
    "\n",
    "the_string = \"When I was a Young Boy My Father Took Me Into The CITY to See A Marching BAND\""
   ]
  },
  {
   "cell_type": "code",
   "execution_count": null,
   "metadata": {},
   "outputs": [],
   "source": [
    "'''\n",
    "7. Pretend your user is a Club Penguin player. Ask the user to input a message.\n",
    "Use the in operator to check if any of the following \"bad words\" are in the message\n",
    "a Club Penguin user is trying to type. If any of them are, print \"You're BLOCKED\". Otherwise\n",
    "print the message as is.\n",
    "\n",
    "BAD WORDS:\n",
    "- dang\n",
    "- gosh\n",
    "- shoot\n",
    "- fork\n",
    "- bench\n",
    "'''"
   ]
  }
 ],
 "metadata": {
  "language_info": {
   "name": "python"
  }
 },
 "nbformat": 4,
 "nbformat_minor": 2
}
