{
 "cells": [
  {
   "cell_type": "code",
   "execution_count": null,
   "metadata": {},
   "outputs": [],
   "source": [
    "'''\n",
    "1. I've placed a hidden message in this string.\n",
    "Can you figure out how the message?\n",
    "Can you out the message?\n",
    "'''\n",
    "hiddenMsg = \"kdiTakHoi03E;kfDkoAkj;kfR895KnvklKdfiNie4I59Ga;dHignT\""
   ]
  }
 ],
 "metadata": {
  "language_info": {
   "name": "python"
  }
 },
 "nbformat": 4,
 "nbformat_minor": 2
}
