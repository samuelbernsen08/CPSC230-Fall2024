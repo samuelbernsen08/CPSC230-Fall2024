{
 "cells": [
  {
   "cell_type": "code",
   "execution_count": null,
   "metadata": {},
   "outputs": [],
   "source": [
    "'''\n",
    "1. Write a function, letter_counter() that takes in the name of a file as a string (fn),\n",
    "and a letter (letter) as arguments and returns the number of times that character\n",
    "occurs in the file (regardless of case).\n",
    "\n",
    "Download the file heardofdarkness.txt from the course GitHub (under ResourcesAndData).\n",
    "Count the number of c's, e's, and s's in the file.\n",
    "'''\n"
   ]
  },
  {
   "cell_type": "code",
   "execution_count": null,
   "metadata": {},
   "outputs": [],
   "source": [
    "'''\n",
    "2. Write a function, poem_maker() that takes in the name of a file as a string,\n",
    "fn, as an argument. Set the default argument to \"poem.txt\".\n",
    "\n",
    "Ask the user for one line of a poem. Add that line to the file. Repeat this\n",
    "process until the user enters an empty line.\n",
    "\n",
    "Close the file.\n",
    "'''\n",
    "\n",
    "# def poem_maker(fn = \"poem.txt\"):"
   ]
  },
  {
   "cell_type": "code",
   "execution_count": null,
   "metadata": {},
   "outputs": [],
   "source": [
    "'''\n",
    "3. If you run this function twice in a row, which poem does the document contain?\n",
    "The first or the second? How does this relate to whether you opened the file with\n",
    "'w' or 'a'?\n",
    "'''\n"
   ]
  },
  {
   "cell_type": "code",
   "execution_count": null,
   "metadata": {},
   "outputs": [],
   "source": [
    "'''\n",
    "4. Read in the file \"students.csv\" (found on GitHub under ResourcesAndData).\n",
    "This file is sort of like an excel/Sheets file.\n",
    "\n",
    "Each line in the file represents a row, that has a bunch of different values\n",
    "separated by commas (print the lines out, so you can see what they look like!\n",
    "the csv in the file extension stands for comma separated values!)\n",
    "\n",
    "This file contains the name, age, year, major, and GPA of a bunch of students. Loop\n",
    "through the file and store all the ages in a list, all the years in another list,\n",
    "all the majors in another list, and all the GPA's in yet another list.\n",
    "\n",
    "Find the Mean GPA, and the mean age of the students.\n",
    "'''"
   ]
  },
  {
   "cell_type": "code",
   "execution_count": null,
   "metadata": {},
   "outputs": [],
   "source": [
    "'''\n",
    "5. Your friend left you a message in the file , secret.txt! To read their message,\n",
    "Grab the first word on the prime numbered lines (e.g. lines 2,3,5...) and put them\n",
    "in a single string to view the message. Start counting lines at 1 not 0.\n",
    "'''"
   ]
  },
  {
   "cell_type": "code",
   "execution_count": null,
   "metadata": {},
   "outputs": [],
   "source": [
    "'''\n",
    "6. Write a function wheel_of_fortune(), which takes in a file path to a txt file, phrase, as an argument.\n",
    "The file should have one line that contains a short phrase.\n",
    "\n",
    "The function should first create a dictionary and count the number of letters (make sure to\n",
    "call .lower() on  the phrase first so you don't count upper and lower case letters differently).\n",
    "\n",
    "Then, print out a - (representing a blank space) for each letter in the phrase, like they do on wheel of fortune. Spaces\n",
    "and punctuation should still be shown. For example, if the phrase was \"all's well that ends well\"\n",
    "you should print out \"---'- ---- ---- ---- ----\".\n",
    "\n",
    "Ask the user to guess a letter (including vowels, unlike wheel of fortune!). Then, using the\n",
    "dictionary you made, print out a message \"There are [number] [letter]'s!'\" where letter is\n",
    "the letter they guessed, and number is how many of that letter are in the phrase.\n",
    "\n",
    "Then replace the -'s corresponding to those letters. For example, for the phrase\n",
    "\"all's well that ends well\", if the user guesses a on their first try, then you'd\n",
    "print out \"a--'- ---- --a- ---- ----\".\n",
    "\n",
    "Then, continue to ask them for letters until they have guessed the whole phrase.\n",
    "When they've guessed the phrase, print out a message congratulating them.\n",
    "\n",
    "If at any point they guess a letter that is not in the phrase, print out a message\n",
    "telling them so, but let them continue guessing.\n",
    "\n",
    "Create your own txt file with a phrase, and test out your function!\n",
    "'''\n"
   ]
  },
  {
   "cell_type": "code",
   "execution_count": null,
   "metadata": {},
   "outputs": [],
   "source": [
    "'''\n",
    "7. Write a function, exclamation(), that takes in a filename, f, as an argument. The\n",
    "function should then open a connection to the file, and count the number of \"!\" in the\n",
    "file, and return that count. Make sure to close your file when you're done with it.\n",
    "\n",
    "(you can test this with any of the book files on GitHub!)\n",
    "'''"
   ]
  }
 ],
 "metadata": {
  "language_info": {
   "name": "python"
  }
 },
 "nbformat": 4,
 "nbformat_minor": 2
}
