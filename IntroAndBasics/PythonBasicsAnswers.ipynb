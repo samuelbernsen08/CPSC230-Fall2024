{
 "cells": [
  {
   "cell_type": "markdown",
   "metadata": {},
   "source": [
    "## First program: Hello World!"
   ]
  },
  {
   "cell_type": "code",
   "execution_count": null,
   "metadata": {},
   "outputs": [],
   "source": [
    "## Uncomment the following line and run it\n",
    "\n",
    "# print(\"Hello World!\")"
   ]
  },
  {
   "cell_type": "markdown",
   "metadata": {},
   "source": [
    "With your groupmates, translate the following base 10 numbers into base 2 numbers (binary) on paper:\n",
    "\n",
    "17\n",
    "\n",
    "16\n",
    "\n",
    "256\n",
    "\n",
    "400\n",
    "\n",
    "2\n",
    "\n",
    "1\n",
    "\n",
    "8\n"
   ]
  },
  {
   "cell_type": "markdown",
   "metadata": {},
   "source": [
    "With your groupmates, translate the following binary numbers into base 10 numbers\n",
    "\n",
    "1\n",
    "\n",
    "10\n",
    "\n",
    "0010\n",
    "\n",
    "10101\n",
    "\n",
    "111110\n",
    "\n",
    "1001001\n"
   ]
  },
  {
   "cell_type": "markdown",
   "metadata": {},
   "source": [
    "Fix the following lines:"
   ]
  },
  {
   "cell_type": "code",
   "execution_count": 2,
   "metadata": {},
   "outputs": [
    {
     "ename": "SyntaxError",
     "evalue": "cannot assign to literal here. Maybe you meant '==' instead of '='? (2305249941.py, line 2)",
     "output_type": "error",
     "traceback": [
      "\u001b[0;36m  Cell \u001b[0;32mIn[2], line 2\u001b[0;36m\u001b[0m\n\u001b[0;31m    10 = number1\u001b[0m\n\u001b[0m    ^\u001b[0m\n\u001b[0;31mSyntaxError\u001b[0m\u001b[0;31m:\u001b[0m cannot assign to literal here. Maybe you meant '==' instead of '='?\n"
     ]
    }
   ],
   "source": [
    "## assign number1 to be 10\n",
    "10 = number1\n",
    "# Solution: number1 = 10"
   ]
  },
  {
   "cell_type": "code",
   "execution_count": null,
   "metadata": {},
   "outputs": [],
   "source": [
    "## Is there a problem here? If so, fix it.\n",
    "2_number = 2\n",
    "# Solution: two_number = 2"
   ]
  },
  {
   "cell_type": "code",
   "execution_count": null,
   "metadata": {},
   "outputs": [],
   "source": [
    "## We want to print False because 15 is greater than 10\n",
    "# x = 15\n",
    "# x <        = 10\n",
    "# Solution: print(x <= 10)"
   ]
  },
  {
   "cell_type": "code",
   "execution_count": 3,
   "metadata": {},
   "outputs": [
    {
     "name": "stdout",
     "output_type": "stream",
     "text": [
      "10\n"
     ]
    }
   ],
   "source": [
    "# We want a float output of 10.0\n",
    "a = 3\n",
    "b = 7\n",
    "print(a+b)\n",
    "# Solution 1: print(float(a+b))\n",
    "# Solution 2: change 3 or 7 to a float value"
   ]
  },
  {
   "cell_type": "markdown",
   "metadata": {},
   "source": [
    "1. Without using Python, figure out the answer to this statement:\n",
    "\n",
    "    4 * 2 * 4 + 3 ** 3 // 2 + 6 - 7 * 9 + (2 + 4)"
   ]
  },
  {
   "cell_type": "code",
   "execution_count": 4,
   "metadata": {},
   "outputs": [
    {
     "data": {
      "text/plain": [
       "-6"
      ]
     },
     "execution_count": 4,
     "metadata": {},
     "output_type": "execute_result"
    }
   ],
   "source": [
    "# 2. Check your answer using Python.\n",
    "4 * 2 * 4 + 3 ** 3 // 2 + 6 - 7 * 9 + (2 + 4)"
   ]
  },
  {
   "cell_type": "code",
   "execution_count": null,
   "metadata": {},
   "outputs": [],
   "source": [
    "# 3. Rewrite this equation using more parentheses to make it a little\n",
    "# bit clearer what order things are run in.\n",
    "\n",
    "(4 * 2 * 4) + ((3 ** 3) // 2) + 6 - (7 * 9)+ (2 + 4)"
   ]
  },
  {
   "cell_type": "code",
   "execution_count": null,
   "metadata": {},
   "outputs": [],
   "source": [
    "# 4. Using Comparison Operators, make a complicated statement (use at\n",
    "#  least 5 operators, repeats allowed) that evaluates to False.\n",
    "\n",
    "# Lots of acceptable answers:\n",
    "# Here is one:\n",
    "1 < 2 < 3 == 4 == 5"
   ]
  },
  {
   "cell_type": "code",
   "execution_count": null,
   "metadata": {},
   "outputs": [],
   "source": [
    "# 5. Do the same, but it should evaluate to True\n",
    "# Possible answer:\n",
    "5 > 3 == 3 < 10 >= 3"
   ]
  },
  {
   "cell_type": "code",
   "execution_count": null,
   "metadata": {},
   "outputs": [],
   "source": [
    "# 6. What happens when you turn True into an int?\n",
    "#    What happens when you turn False into an int?\n",
    "#    Why is this beneficial?\n",
    "\n",
    "# True becomes 1\n",
    "# False becomes 0"
   ]
  },
  {
   "cell_type": "code",
   "execution_count": null,
   "metadata": {},
   "outputs": [],
   "source": [
    "# 7. Using modulo, check whether 1069 is even.\n",
    "\n",
    "# Answer:\n",
    "print(1069 % 2)"
   ]
  },
  {
   "cell_type": "code",
   "execution_count": null,
   "metadata": {},
   "outputs": [],
   "source": [
    "'''\n",
    "8. Using your operators (%,/,//,*), write some code to convert an amount of\n",
    "time in minutes (e.g. 257) to hours and minutes (e.g. 4 hours and 17 minutes).\n",
    "Print out the numbers of hours/minutes in the form \"X hours, Y minutes\".\n",
    "Try it with multiple values:\n",
    "- 12,938 (answer: 215 hours, 38 minutes)\n",
    "- 55 (answer: 0 hours, 55 minutes)\n",
    "- 525,600 (answer: 8760 hours, 0 minutes )\n",
    "- 432 (answer: 7 hours, 12 minutes)\n",
    "'''\n",
    "\n",
    "m = 12938\n",
    "\n",
    "print(\"Hours:\", m // 60, \"Mins:\", m % 60)"
   ]
  },
  {
   "cell_type": "code",
   "execution_count": null,
   "metadata": {},
   "outputs": [],
   "source": [
    "\n",
    "'''\n",
    "9. Extend the code above to print out days (assume 24 hours per day), and\n",
    "Weeks (7 days per week). Again, print out the minutes, hours, days, weeks\n",
    "in the form \"A weeks, B days, X hours, Y minutes\".\n",
    "Try it with multiple values:\n",
    "- 525,600 (answer: 52 weeks, 0 days, 0 hours, 0 minutes)\n",
    "- 1,000,000 (answer: 99 weeks, 1 days, 10 hours, 40 minutes)\n",
    "'''\n",
    "\n",
    "m = 525600\n",
    "\n",
    "weeks = m // (60 * 24 * 7)\n",
    "\n",
    "days = (m % (60 * 24 * 7)) // (60 * 24)\n",
    "\n",
    "hours = ((m % (60 * 24 * 7)) % (60 * 24)) // 60\n",
    "\n",
    "mins = ((m % (60 * 24 * 7)) % (60 * 24)) % 60\n",
    "\n",
    "print(\"Weeks:\", weeks)\n",
    "print(\"Days:\", days)\n",
    "print(\"Hours:\", hours)\n",
    "print(\"Mins:\", mins)"
   ]
  },
  {
   "cell_type": "code",
   "execution_count": 4,
   "metadata": {},
   "outputs": [
    {
     "ename": "ValueError",
     "evalue": "invalid literal for int() with base 10: ''",
     "output_type": "error",
     "traceback": [
      "\u001b[0;31m---------------------------------------------------------------------------\u001b[0m",
      "\u001b[0;31mValueError\u001b[0m                                Traceback (most recent call last)",
      "Cell \u001b[0;32mIn[4], line 10\u001b[0m\n\u001b[1;32m      1\u001b[0m \u001b[38;5;124;03m'''\u001b[39;00m\n\u001b[1;32m      2\u001b[0m \u001b[38;5;124;03m10. Write some code that uses two separate input functions to ask\u001b[39;00m\n\u001b[1;32m      3\u001b[0m \u001b[38;5;124;03mthe user for the time of day in military time (24 hour time)\u001b[39;00m\n\u001b[0;32m   (...)\u001b[0m\n\u001b[1;32m      8\u001b[0m \u001b[38;5;124;03m(e.g. 13:25 should be converted to 1:25).\u001b[39;00m\n\u001b[1;32m      9\u001b[0m \u001b[38;5;124;03m'''\u001b[39;00m\n\u001b[0;32m---> 10\u001b[0m mil_hours \u001b[38;5;241m=\u001b[39m \u001b[38;5;28;43mint\u001b[39;49m\u001b[43m(\u001b[49m\u001b[38;5;28;43minput\u001b[39;49m\u001b[43m(\u001b[49m\u001b[38;5;124;43m\"\u001b[39;49m\u001b[38;5;124;43mHours: \u001b[39;49m\u001b[38;5;124;43m\"\u001b[39;49m\u001b[43m)\u001b[49m\u001b[43m)\u001b[49m\n\u001b[1;32m     11\u001b[0m mil_mins \u001b[38;5;241m=\u001b[39m \u001b[38;5;28mint\u001b[39m(\u001b[38;5;28minput\u001b[39m(\u001b[38;5;124m\"\u001b[39m\u001b[38;5;124mMins: \u001b[39m\u001b[38;5;124m\"\u001b[39m))\n\u001b[1;32m     13\u001b[0m \u001b[38;5;66;03m# your code here\u001b[39;00m\n",
      "\u001b[0;31mValueError\u001b[0m: invalid literal for int() with base 10: ''"
     ]
    }
   ],
   "source": [
    "'''\n",
    "10. Write some code that uses two separate input functions to ask\n",
    "the user for the time of day in military time (24 hour time)\n",
    "by asking FIRST for the hour, then SECOND asking for the minutes.\n",
    "E.g. for the time 13:25 the user should enter 13 for the first input\n",
    "statement, and 25 for the second.\n",
    "Use your operators to convert from military time to AM/PM time\n",
    "(e.g. 13:25 should be converted to 1:25).\n",
    "'''\n",
    "mil_hours = int(input(\"Hours: \"))\n",
    "mil_mins = int(input(\"Mins: \"))\n",
    "\n",
    "# your code here\n",
    "print(mil_hours % 12, mil_mins, sep=\":\")"
   ]
  },
  {
   "cell_type": "markdown",
   "metadata": {},
   "source": [
    "--------------------------------------------------------"
   ]
  },
  {
   "cell_type": "code",
   "execution_count": null,
   "metadata": {},
   "outputs": [],
   "source": [
    "# 1. What type is x? How can we use python to check?\n",
    "\n",
    "x = 10 # int\n",
    "type(x)"
   ]
  },
  {
   "cell_type": "code",
   "execution_count": null,
   "metadata": {},
   "outputs": [],
   "source": [
    "# 2. The == is the \"equal to\" operator, and it returns True if two objects\n",
    "# are equal, and False if they are not (see below for examples). Add a\n",
    "# line of code to check if the Boolean True is equal to 1.\n",
    "\n",
    "# examples\n",
    "1 == 2 # False\n",
    "3 <= 10 # True\n",
    "\n",
    "# your code here\n",
    "True == 1"
   ]
  },
  {
   "cell_type": "code",
   "execution_count": null,
   "metadata": {},
   "outputs": [],
   "source": [
    "# 4. Use Python to cast z into a string. Print type(z) before and after making\n",
    "# the change.\n",
    "\n",
    "z = 156\n",
    "print(type(z))\n",
    "z = str(z)\n",
    "print(type(z))"
   ]
  },
  {
   "cell_type": "code",
   "execution_count": null,
   "metadata": {},
   "outputs": [],
   "source": [
    "'''\n",
    "5. Print the type of each of these variables.\n",
    "'''\n",
    "\n",
    "my_int = 9\n",
    "my_string = \"quod erat demonstrandum\"\n",
    "my_list = [1,2,3,4,5]\n",
    "my_dict = {\"name\": \"Jane Doe\", \"age\": 27}\n",
    "my_set = {1,1,2,3,5,8,13}\n",
    "\n",
    "type(my_int)\n",
    "type(my_string)\n",
    "type(my_list)\n",
    "type(my_dict)\n",
    "type(my_set)"
   ]
  },
  {
   "cell_type": "code",
   "execution_count": null,
   "metadata": {},
   "outputs": [],
   "source": [
    "'''\n",
    "6. Write some code that asks the user to guess a number between 1 and 10.\n",
    "Cast that number to an int, and then a use boolean operation to\n",
    "check if the number they guessed is 7. Print out the resulting\n",
    "Boolean value (which will be True when they guessed 7, and False\n",
    "otherwise.)\n",
    "'''\n",
    "# your code here\n",
    "num = int(input(\"Number between 1 and 10: \"))\n",
    "print(num == 7)"
   ]
  },
  {
   "cell_type": "code",
   "execution_count": null,
   "metadata": {},
   "outputs": [],
   "source": [
    "\n",
    "'''\n",
    "7. Write some code that uses a boolean operator to check whether\n",
    "7 * 2 + 4 / 9 is bigger than 9 * 10 / 2 + 3 - 4\n",
    "'''\n",
    "\n",
    "x = 7 * 2 + 4 / 9\n",
    "y = 9 * 10 / 2 + 3 - 4\n",
    "\n",
    "print(x > y)"
   ]
  },
  {
   "cell_type": "code",
   "execution_count": null,
   "metadata": {},
   "outputs": [],
   "source": [
    "\n",
    "'''\n",
    "8. Write some code that asks the user who the first president of the \n",
    "United States was. Then check (using a boolean operator) whether their \n",
    "answer is correct.\n",
    "'''\n",
    "# your code here\n",
    "pres = input(\"Who was the first president? \")\n",
    "print(pres == \"George Washington\" or \"george washington\")"
   ]
  },
  {
   "cell_type": "code",
   "execution_count": null,
   "metadata": {},
   "outputs": [],
   "source": [
    "\n",
    "'''\n",
    "9. With your group, discuss why this code doesn't work, and what\n",
    "would need to be changed to fix it.\n",
    "'''\n",
    "\n",
    "i = input(\"How many times did you workout this week? \")\n",
    "\n",
    "avg = i/7\n",
    "\n",
    "print(avg, \"times a day on average! Cool!\")"
   ]
  }
 ],
 "metadata": {
  "kernelspec": {
   "display_name": "Python 3",
   "language": "python",
   "name": "python3"
  },
  "language_info": {
   "codemirror_mode": {
    "name": "ipython",
    "version": 3
   },
   "file_extension": ".py",
   "mimetype": "text/x-python",
   "name": "python",
   "nbconvert_exporter": "python",
   "pygments_lexer": "ipython3",
   "version": "3.12.5"
  }
 },
 "nbformat": 4,
 "nbformat_minor": 2
}
